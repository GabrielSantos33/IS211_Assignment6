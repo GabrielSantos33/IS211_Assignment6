{
 "cells": [
  {
   "cell_type": "code",
   "execution_count": 9,
   "metadata": {},
   "outputs": [],
   "source": [
    "# Gabriel Santos IS-211 10/03/2020\n",
    "\"\"\"Assignment 6 - Tests for the Conversions file.\"\"\"\n",
    "\n",
    "import unittest\n",
    "import conversions\n",
    "import conversions_refactored"
   ]
  },
  {
   "cell_type": "code",
   "execution_count": 10,
   "metadata": {},
   "outputs": [],
   "source": [
    "class conversionInfo():\n",
    "    conversiontable = (\n",
    "                        (500.00, 932.00, 773.15),\n",
    "                        (400.00, 752.00, 673.15),\n",
    "                        (300.00, 572.00, 573.15),\n",
    "                        (200.00, 392.00, 473.15),\n",
    "                        (100.00, 212.00, 373.15),\n",
    "                        (0.00, 32.00, 273.15),\n",
    "                        (-100.00, -148.00, 173.15)\n",
    "                       )"
   ]
  },
  {
   "cell_type": "code",
   "execution_count": 11,
   "metadata": {},
   "outputs": [],
   "source": [
    "#Individual conversion test cases are checked against the conversion table.\n",
    "class testTemperatureCases(unittest.TestCase):\n",
    "\n",
    "    #Function tests the Celsius to Kelvin Conversion\n",
    "    def testConversionCelsiusToKelvin(self):\n",
    "        for celsius, fahrenheit, kelvin in conversionInfo.conversiontable:\n",
    "            print('Validating {} degrees Celsius to {} degrees Kelvin Conversion'.format(celsius, kelvin)) \n",
    "            result = conversions.convertCelsiusToKelvin(celsius)\n",
    "            self.assertEqual(kelvin, round(result, 2))\n",
    "\n",
    "    #Function tests the Celsius to Fahrenheit conversion\n",
    "    def testConversionCelsiusToFahrenheit(self):\n",
    "         for celsius, fahrenheit, kelvin in conversionInfo.conversiontable:\n",
    "                print('Validating {} degrees Celsius to {} degrees Fahrenheit Conversion'.format(celsius, fahrenheit)) \n",
    "                result = conversions.convertCelsiusToFahrenheit(celsius)\n",
    "                self.assertEqual(fahrenheit, round(result, 2))\n",
    "\n",
    "    #Function tests the Fahrenheit to Celsius conversion\n",
    "    def testConversionFahrenheitToCelsius(self):\n",
    "         for celsius, fahrenheit, kelvin in conversionInfo.conversiontable:\n",
    "                print('Validating {} degrees Fahrenheit to {} degrees Celsius Conversion'.format(fahrenheit, celsius)) \n",
    "                result = conversions.convertFahrenheitToCelsius(fahrenheit)\n",
    "                self.assertEqual(celsius, round(result, 2))\n",
    "\n",
    "\n",
    "    #Function tests the Fahrenheit to Kelvin conversion\n",
    "    def testConversionFahrenheitToKelvin(self):\n",
    "        for celsius, fahrenheit, kelvin in conversionInfo.conversiontable:\n",
    "            print('Validating {} degrees Fahrenheit converts to {} degrees Kelvin'.format(fahrenheit, kelvin)) \n",
    "            result = conversions.convertFahrenheitToKelvin(fahrenheit)\n",
    "            self.assertEqual(kelvin, round(result, 2))\n",
    "\n",
    "    #Function tests the Kelvin to Celsius conversion\n",
    "    def testConversionKelvinToCelsius(self):\n",
    "        for celsius, fahrenheit, kelvin in conversionInfo.conversiontable:\n",
    "            print('Validating {} degrees Kelvin converts to {} degrees Celsius'.format(kelvin, celsius)) \n",
    "            result = conversions.convertKelvinToCelsius(kelvin)\n",
    "            self.assertEqual(celsius, round(result, 2))\n",
    "\n",
    "\n",
    "    #Function tests the Kelvin to Fahrenheit conversion\n",
    "    def testConversionKelvinToFahrenheit(self):\n",
    "        for celsius, fahrenheit, kelvin in conversionInfo.conversiontable:\n",
    "            print('Validating {} degrees Kelvin converts to {} degrees Fahrenheit'.format(kelvin, fahrenheit)) \n",
    "            result = conversions.convertKelvintoFahrenheit(kelvin)\n",
    "            self.assertEqual(fahrenheit, round(result, 2))\n"
   ]
  },
  {
   "cell_type": "code",
   "execution_count": 12,
   "metadata": {},
   "outputs": [],
   "source": [
    "class GeneralConversionInfo():\n",
    "\n",
    "    testcases = (\n",
    "                (\"CElsius\", \"KELVIN\", 410.00, 683.150),\n",
    "                (\"kelvin\", \"Celsius\", 573.15, 300.00),\n",
    "                (\"kelvin\", \"Celsius\", 683.15, 410.00),\n",
    "                (\"Kelvin\", \"celsius\", 393.15, 120.00),\n",
    "                (\"fahrenheit\", \"kelvin\", 572.00, 573.15),\n",
    "                (\"Fahrenheit\", \"Kelvin\", 770.00, 683.15),\n",
    "                ('miles', 'yards', 1.00, 1760.00),\n",
    "                ('meters', 'yards', 50.00, 54.68),\n",
    "                ('miles', 'meters', 5.00, 8046.72),\n",
    "                ('meters', 'miles', 5000.00, 3.11),\n",
    "                ('yards', 'miles',  8800.00, 5.00),\n",
    "                ('yards', 'meters', 450.00, 411.48),\n",
    "                ('yards', 'yards', 10, 10),\n",
    "                ('celsius', 'celsius', 100, 100)\n",
    "                )\n"
   ]
  },
  {
   "cell_type": "code",
   "execution_count": 13,
   "metadata": {},
   "outputs": [],
   "source": [
    "class refactoredTestCases(unittest.TestCase):\n",
    "\n",
    "    def testRefactoredTempCases(self):\n",
    "        for fromUnit, toUnit, value, conversion in GeneralConversionInfo.testcases:\n",
    "            result = conversions_refactored.conversioncalcs(fromUnit, toUnit, value)\n",
    "            self.assertEqual(conversion, round(result, 2))\n",
    "\n"
   ]
  },
  {
   "cell_type": "code",
   "execution_count": 15,
   "metadata": {},
   "outputs": [
    {
     "name": "stderr",
     "output_type": "stream",
     "text": [
      "E\n",
      "======================================================================\n",
      "ERROR: C:\\Users\\drake\\AppData\\Roaming\\jupyter\\runtime\\kernel-bf19bc93-d08a-46f2-baa8-112aafa92f99 (unittest.loader._FailedTest)\n",
      "----------------------------------------------------------------------\n",
      "AttributeError: module '__main__' has no attribute 'C:\\Users\\drake\\AppData\\Roaming\\jupyter\\runtime\\kernel-bf19bc93-d08a-46f2-baa8-112aafa92f99'\n",
      "\n",
      "----------------------------------------------------------------------\n",
      "Ran 1 test in 0.001s\n",
      "\n",
      "FAILED (errors=1)\n"
     ]
    },
    {
     "ename": "SystemExit",
     "evalue": "True",
     "output_type": "error",
     "traceback": [
      "An exception has occurred, use %tb to see the full traceback.\n",
      "\u001b[1;31mSystemExit\u001b[0m\u001b[1;31m:\u001b[0m True\n"
     ]
    },
    {
     "name": "stderr",
     "output_type": "stream",
     "text": [
      "E:\\Users\\drake\\anaconda3\\lib\\site-packages\\IPython\\core\\interactiveshell.py:3351: UserWarning: To exit: use 'exit', 'quit', or Ctrl-D.\n",
      "  warn(\"To exit: use 'exit', 'quit', or Ctrl-D.\", stacklevel=1)\n"
     ]
    }
   ],
   "source": [
    "if __name__ == '__main__':\n",
    "    unittest.main()"
   ]
  },
  {
   "cell_type": "code",
   "execution_count": null,
   "metadata": {},
   "outputs": [],
   "source": []
  }
 ],
 "metadata": {
  "kernelspec": {
   "display_name": "Python 3",
   "language": "python",
   "name": "python3"
  },
  "language_info": {
   "codemirror_mode": {
    "name": "ipython",
    "version": 3
   },
   "file_extension": ".py",
   "mimetype": "text/x-python",
   "name": "python",
   "nbconvert_exporter": "python",
   "pygments_lexer": "ipython3",
   "version": "3.8.3"
  }
 },
 "nbformat": 4,
 "nbformat_minor": 4
}
