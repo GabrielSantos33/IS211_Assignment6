{
 "cells": [
  {
   "cell_type": "code",
   "execution_count": 1,
   "metadata": {},
   "outputs": [],
   "source": [
    "# Gabriel Santos IS211\n",
    "\n",
    "\n",
    "\"\"\"Function converts C to K\"\"\"\n",
    "def convertCelsiusToKelvin(celsius):\n",
    "     kelvin = celsius + 273.15\n",
    "     return float(kelvin)\n",
    "\n",
    "\"Function converts C to F\"\n",
    "def convertCelsiusToFahrenheit(celsius):\n",
    "     fahrenheit = (celsius * 9) / 5 + 32\n",
    "     return float(fahrenheit)\n",
    "\n",
    "\"\"\"Function converts F to C\"\"\"\n",
    "def convertFahrenheitToCelsius(fahrenheit):\n",
    "     celsius = ((fahrenheit - 32) * 5) / 9\n",
    "     return float(celsius)\n",
    "\n",
    "\"\"\"Function converts F to K\"\"\"\n",
    "def convertFahrenheitToKelvin(fahrenheit):\n",
    "     kelvin = (fahrenheit + 459.67) * 5/9\n",
    "     return float(kelvin)\n",
    "\n",
    "\"\"\"Function converts K to C\"\"\"\n",
    "def convertKelvinToCelsius(kelvin):\n",
    "     celsius = kelvin - 273.15\n",
    "     return float(celsius)\n",
    "\n",
    "\"\"\"Function converts K to F\"\"\"\n",
    "def convertKelvintoFahrenheit(kelvin):\n",
    "     fahrenheit = (kelvin * 9/5) - 459.67\n",
    "     return float(fahrenheit)"
   ]
  },
  {
   "cell_type": "code",
   "execution_count": null,
   "metadata": {},
   "outputs": [],
   "source": []
  }
 ],
 "metadata": {
  "kernelspec": {
   "display_name": "Python 3",
   "language": "python",
   "name": "python3"
  },
  "language_info": {
   "codemirror_mode": {
    "name": "ipython",
    "version": 3
   },
   "file_extension": ".py",
   "mimetype": "text/x-python",
   "name": "python",
   "nbconvert_exporter": "python",
   "pygments_lexer": "ipython3",
   "version": "3.8.3"
  }
 },
 "nbformat": 4,
 "nbformat_minor": 4
}
